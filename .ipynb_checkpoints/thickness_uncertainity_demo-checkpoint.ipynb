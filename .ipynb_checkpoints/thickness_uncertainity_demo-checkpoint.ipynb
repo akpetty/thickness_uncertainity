{
 "cells": [
  {
   "cell_type": "markdown",
   "metadata": {},
   "source": [
    "# Estimating sea ice thickness and its uncertainty with ICESat-2\n",
    "\n",
    "\n",
    "\n",
    "* Author: Alek Petty\n",
    "* Description: Notebook describing the conversion of ICESat-2 ATL10 freebaords to sea ice thickness using NESOSIM snow depth/density estimates,  including random/systematic uncertainity estimates.\n",
    "* Input requirements: Demo ATL10 data file, NESOSIM snow depths.\n",
    "* Date: March 2021\n",
    "* Reference: Petty, A. A., N. T. Kurtz, R. Kwok, T. Markus, T. A. Neumann (2020), Winter Arctic sea ice thickness from ICESat‐2 freeboards, Journal of Geophysical Research: Oceans, 125, e2019JC015764. doi:10.1029/2019JC015764 \n",
    "\n",
    "\n",
    "## Notebook objectives\n",
    "* General understanding of converting sea ice freeboard to thickness\n",
    "* Estimating sea ice thickness uncertainties.\n",
    "\n"
   ]
  },
  {
   "cell_type": "code",
   "execution_count": 1,
   "metadata": {},
   "outputs": [
    {
     "ename": "NameError",
     "evalue": "name 'beam' is not defined",
     "output_type": "error",
     "traceback": [
      "\u001b[0;31m---------------------------------------------------------------------------\u001b[0m",
      "\u001b[0;31mNameError\u001b[0m                                 Traceback (most recent call last)",
      "\u001b[0;32m<ipython-input-1-bb9df51c8491>\u001b[0m in \u001b[0;36m<module>\u001b[0;34m\u001b[0m\n\u001b[1;32m     11\u001b[0m \u001b[0;32mimport\u001b[0m \u001b[0mscipy\u001b[0m\u001b[0;34m\u001b[0m\u001b[0;34m\u001b[0m\u001b[0m\n\u001b[1;32m     12\u001b[0m \u001b[0;32mfrom\u001b[0m \u001b[0mastropy\u001b[0m\u001b[0;34m.\u001b[0m\u001b[0mtime\u001b[0m \u001b[0;32mimport\u001b[0m \u001b[0mTime\u001b[0m\u001b[0;34m\u001b[0m\u001b[0;34m\u001b[0m\u001b[0m\n\u001b[0;32m---> 13\u001b[0;31m \u001b[0;32mimport\u001b[0m \u001b[0mutils\u001b[0m \u001b[0;32mas\u001b[0m \u001b[0mut\u001b[0m\u001b[0;34m\u001b[0m\u001b[0;34m\u001b[0m\u001b[0m\n\u001b[0m\u001b[1;32m     14\u001b[0m \u001b[0;34m\u001b[0m\u001b[0m\n\u001b[1;32m     15\u001b[0m \u001b[0;34m\u001b[0m\u001b[0m\n",
      "\u001b[0;32m~/GitHub/thickness_uncertainity/utils.py\u001b[0m in \u001b[0;36m<module>\u001b[0;34m\u001b[0m\n\u001b[1;32m     14\u001b[0m \u001b[0;32mfrom\u001b[0m \u001b[0mscipy\u001b[0m\u001b[0;34m.\u001b[0m\u001b[0minterpolate\u001b[0m \u001b[0;32mimport\u001b[0m \u001b[0mgriddata\u001b[0m\u001b[0;34m\u001b[0m\u001b[0;34m\u001b[0m\u001b[0m\n\u001b[1;32m     15\u001b[0m \u001b[0;34m\u001b[0m\u001b[0m\n\u001b[0;32m---> 16\u001b[0;31m \u001b[0;32mdef\u001b[0m \u001b[0mget_atl10_freeboards\u001b[0m\u001b[0;34m(\u001b[0m\u001b[0mfileT\u001b[0m\u001b[0;34m,\u001b[0m \u001b[0mbeam\u001b[0m\u001b[0;34m=\u001b[0m\u001b[0mbeam\u001b[0m\u001b[0;34m,\u001b[0m \u001b[0mminFreeboard\u001b[0m\u001b[0;34m=\u001b[0m\u001b[0;36m0\u001b[0m\u001b[0;34m,\u001b[0m \u001b[0mmaxFreeboard\u001b[0m\u001b[0;34m=\u001b[0m\u001b[0;36m10\u001b[0m\u001b[0;34m,\u001b[0m \u001b[0mepsg_string\u001b[0m\u001b[0;34m=\u001b[0m\u001b[0;34m\"3411\"\u001b[0m\u001b[0;34m)\u001b[0m\u001b[0;34m:\u001b[0m\u001b[0;34m\u001b[0m\u001b[0;34m\u001b[0m\u001b[0m\n\u001b[0m\u001b[1;32m     17\u001b[0m     \"\"\" Pandas/numpy ATL10 reader\n\u001b[1;32m     18\u001b[0m     \u001b[0mOriginal\u001b[0m \u001b[0mfunction\u001b[0m \u001b[0mwritten\u001b[0m \u001b[0mby\u001b[0m \u001b[0mAlek\u001b[0m \u001b[0mPetty\u001b[0m\u001b[0;34m,\u001b[0m \u001b[0mJune\u001b[0m \u001b[0;36m2018\u001b[0m \u001b[0;34m(\u001b[0m\u001b[0malek\u001b[0m\u001b[0;34m.\u001b[0m\u001b[0ma\u001b[0m\u001b[0;34m.\u001b[0m\u001b[0mpetty\u001b[0m\u001b[0;34m@\u001b[0m\u001b[0mnasa\u001b[0m\u001b[0;34m.\u001b[0m\u001b[0mgov\u001b[0m\u001b[0;34m)\u001b[0m\u001b[0;34m\u001b[0m\u001b[0;34m\u001b[0m\u001b[0m\n",
      "\u001b[0;31mNameError\u001b[0m: name 'beam' is not defined"
     ]
    }
   ],
   "source": [
    "import warnings\n",
    "warnings.filterwarnings('ignore')\n",
    "import numpy as np\n",
    "import pandas as pd\n",
    "import datetime as dt\n",
    "import matplotlib.pyplot as plt\n",
    "import matplotlib\n",
    "matplotlib.use('Agg')\n",
    "import cartopy.crs as ccrs\n",
    "import h5py\n",
    "import scipy\n",
    "from astropy.time import Time\n",
    "import utils as ut\n",
    "\n",
    "\n",
    "#Magic function to enable interactive plotting in Jupyter notebook\n",
    "%matplotlib inline"
   ]
  },
  {
   "cell_type": "markdown",
   "metadata": {},
   "source": [
    "#### Import Data\n",
    "\n",
    "As in the ATL07 Notebook, you can either get the data for this tutorial from the tutorial-data/sea-ice/ folder (at the hackweek) or download from NSIDC if you are running this on your local machine"
   ]
  },
  {
   "cell_type": "markdown",
   "metadata": {},
   "source": [
    "## ICESat-2 freeboards (ATL10)\n",
    "\n",
    "ATL10 is a pretty simple product, with most of the hard work done in ATL03 and then ATL07. ATL10 essentially returns the freeboard of the height segments calculated in ATL07 - the difference in height between the ice and sea surface. A local sea surface height is calculated in 10 km along-track sections using all relevant sea surface heights (ssh_flag) in each beam. \n",
    "\n",
    "A lot of the important variables in ATL07 have been passed through to ATL10 making this a useful high-level data product of interest to the community."
   ]
  },
  {
   "cell_type": "code",
   "execution_count": null,
   "metadata": {},
   "outputs": [],
   "source": [
    "data_loc='./'\n",
    "fname='ATL10-01_20191014090019_02670501_003_03.h5'\n",
    "fileT= data_loc+fname"
   ]
  },
  {
   "cell_type": "markdown",
   "metadata": {},
   "source": [
    "#### Read in the data using the Pandas ATL10 reader.\n",
    "\n",
    "* Take a look at the top few rows (change the number in head to increase this, or switch to tail to show the end)    \n",
    "* This includes core-variables I think are needed, but easy to add other variables you might want to use!"
   ]
  },
  {
   "cell_type": "code",
   "execution_count": null,
   "metadata": {},
   "outputs": [],
   "source": [
    "beamStr='gt1r'\n",
    "epsg_string='3411'\n",
    "dF10 = ut.get_atl10_freeboards(fileT, beamStr, epsg_string=epsg_string)\n",
    "dF10.head()"
   ]
  },
  {
   "cell_type": "code",
   "execution_count": null,
   "metadata": {},
   "outputs": [],
   "source": [
    "date_str = dF10.datetime.iloc[0].strftime(\"%Y%m%d\") \n",
    "print('Start date of granule', date_str)"
   ]
  },
  {
   "cell_type": "markdown",
   "metadata": {},
   "source": [
    "#### Map the data using Cartopy \n",
    "* Just a quick visual check of the freeboards. Note the gaps, mainly due to clouds!\n",
    "* Note: Basemap is often used for mapping but is not being officially supported by the community anymore so we've tried to focus on Cartopy here"
   ]
  },
  {
   "cell_type": "code",
   "execution_count": null,
   "metadata": {},
   "outputs": [],
   "source": [
    "var='freeboard'\n",
    "plt.figure(figsize=(7,7), dpi= 90)\n",
    "# Make a new projection \"NorthPolarStereo\"\n",
    "# ccrs.PlateCarree\n",
    "ax = plt.axes(projection=ccrs.NorthPolarStereo(true_scale_latitude=70))\n",
    "plt.scatter(dF10['lon'], dF10['lat'],c=dF10[var], cmap='viridis', vmin=0, vmax=0.3, transform=ccrs.PlateCarree())\n",
    "#plt.pcolormesh(lons, lats, tile_to_plot,\n",
    "#               transform=ccrs.PlateCarree());\n",
    "\n",
    "ax.coastlines()\n",
    "ax.gridlines(draw_labels=True,\n",
    "              linewidth=0.22, color='gray', alpha=0.5, linestyle='--')\n",
    "plt.colorbar(label=var+' (m)', shrink=0.5, pad=0.05, orientation=\"horizontal\", extend='both')\n",
    "\n",
    "# Limit the map to -60 degrees latitude and below.\n",
    "ax.set_extent([-180, 180, 90, 60], ccrs.PlateCarree())"
   ]
  },
  {
   "cell_type": "markdown",
   "metadata": {},
   "source": [
    "#### Convert the ATL10 freeboards to sea ice thickness!\n",
    "\n",
    "* First we read in NESOSIM snow depth and density data to each ATL10 freeboard segment (https://github.com/akpetty/NESOSIM)\n",
    "* Convert the freeboard to thickness using NESOSIM snow loading. The function this calls assumes the sea ice is in hydrostatic equlibirum. Why/when might this be invalid?\n"
   ]
  },
  {
   "cell_type": "code",
   "execution_count": null,
   "metadata": {},
   "outputs": [],
   "source": [
    "# First grab and apply the relevant NESOSIM snow depth and density\n",
    "\n",
    "nesosim_path = './NESOSIMv11_01092018-30042019.nc'\n",
    "# Get NESOSIM data for the given day\n",
    "nesosim_day=ut.get_nesosim(date_str, nesosim_path)\n",
    "\n",
    "dF10 = ut.grid_NESOSIM_to_freeboard(dF10, nesosim_day, epsg_string = epsg_string, outSnowVar='snow_depth_N', outDensityVar='snow_density_N', returnMap=False)\n",
    "\n",
    "dF10.head()"
   ]
  },
  {
   "cell_type": "code",
   "execution_count": null,
   "metadata": {},
   "outputs": [],
   "source": [
    "# rhoi=1 is the ice density option where density is fixed at 916 (not ice type dependent like the other options available)\n",
    "dF10=ut.convert_to_thickness(dF10, snowDepthVar='snow_depth_N', \n",
    "                                 snowDensityVar='snow_density_N',\n",
    "                                 outVar='ice_thickness_N', rhoi=1)"
   ]
  },
  {
   "cell_type": "code",
   "execution_count": null,
   "metadata": {},
   "outputs": [],
   "source": [
    "# Map the data for visual inspection using Cartopy\n",
    "var='ice_thickness_N'\n",
    "plt.figure(figsize=(7,7), dpi= 90)\n",
    "# Make a new projection \"NorthPolarStereo\"\n",
    "ax = plt.axes(projection=ccrs.NorthPolarStereo(true_scale_latitude=70))\n",
    "plt.scatter(dF10['lon'], dF10['lat'],c=dF10[var], cmap='viridis', alpha=0.8, transform=ccrs.PlateCarree())\n",
    "\n",
    "ax.coastlines()\n",
    "ax.gridlines(draw_labels=True,\n",
    "              linewidth=0.22, color='gray', alpha=0.5, linestyle='--')\n",
    "plt.colorbar(label=var, shrink=0.5, pad=0.05, orientation=\"horizontal\", extend='both')\n",
    "\n",
    "# Limit the map to -60 degrees latitude and below.\n",
    "ax.set_extent([-180, 180, 90, 55], ccrs.PlateCarree())"
   ]
  },
  {
   "cell_type": "code",
   "execution_count": null,
   "metadata": {},
   "outputs": [],
   "source": [
    "dF10 = ut.calc_thickness_uncertainty(dF10, 'snow_depth_N', 'snow_density_N', 'ice_density_1', 'ice_thickness_N_unc', \n",
    "                                     snow_depth_unc_sys_default=0.1, snow_density_unc_sys_default=30, ice_density_unc_sys_default=10, \n",
    "                                     freeboard_unc_sys_default=0.01, seawater_density=1024., snow_depth_unc_random=0.05, snow_density_unc_random=40, \n",
    "                                     ice_density_unc_random=10., water_density_unc_random=0.5)\n",
    "dF10.head()"
   ]
  },
  {
   "cell_type": "code",
   "execution_count": null,
   "metadata": {},
   "outputs": [],
   "source": [
    "# cut to middle part of the granule\n",
    "minlat=76.8\n",
    "maxlat=80\n",
    "dF10=dF10[(dF10.lat>minlat)&(dF10.lat<maxlat)]"
   ]
  },
  {
   "cell_type": "code",
   "execution_count": null,
   "metadata": {},
   "outputs": [],
   "source": [
    "fig, axs = plt.subplots(nrows=3, ncols=1, figsize=(14, 8))\n",
    "\n",
    "plt.sca(axs.flatten()[0])\n",
    "ax1=plt.gca()\n",
    "ax1.plot(dF10['seg_x'].values, dF10['freeboard'].values, '.-', color='k', alpha=0.9, label='ATL10 '+beamStr+' (spread = freeboard uncertainty)', markersize=2, linewidth=1)\n",
    "ax1.errorbar(dF10['seg_x'].values, dF10['freeboard'].values, yerr=dF10['freeboard_sigma'].values, fmt='', linestyle='', marker='.', color='k', lw=0.7, capsize=0.5)\n",
    "\n",
    "# add panel indicating ice type\n",
    "ax1.set_ylabel('freeboard (m)')\n",
    "#ax1.set_yticks(np.arange(0, 1.5, 0.5))\n",
    "ax1.set_xticklabels([])\n",
    "\n",
    "plt.sca(axs.flatten()[1]) \n",
    "ax2=plt.gca()\n",
    "\n",
    "ax2.plot(dF10['seg_x'].values, dF10['ice_thickness_N'].values, '.-', color='r', alpha=0.9,label=r'Sea ice thickness (spread = total uncertainty)', markersize=3, linewidth=1)\n",
    "ax2.errorbar(dF10['seg_x'].values, dF10['ice_thickness_N'].values, yerr=dF10['ice_thickness_N_unc'].values, fmt='', linestyle='', marker='.', color='r', lw=0.5, capsize=0.5,)\n",
    "#ax1.errorbar(dist, IS2data['ice_thickness_N'].values, yerr=IS2data['freeboard_sigma'].values, fmt='', linestyle='', marker='.', color='k', lw=0.5, capsize=0.5,)\n",
    "\n",
    "ax2.set_ylabel('Ice thickness (m)')\n",
    "ax2.set_xticklabels([])\n",
    "\n",
    "\n",
    "plt.sca(axs.flatten()[2]) \n",
    "ax3=plt.gca()\n",
    "ax3.plot(dF10['seg_x'].values, dF10['ice_thickness_N_unc'].values, '.-', alpha=0.9, label='total uncertainity', color='k', markersize=3, linewidth=1)\n",
    "ax3.plot(dF10['seg_x'].values, dF10['ice_thickness_N_uncrandom'].values, '.-', alpha=0.9, label='random uncertainty', color='c', markersize=3, linewidth=1)\n",
    "ax3.plot(dF10['seg_x'].values, dF10['ice_thickness_N_uncsys'].values, '.-', alpha=0.9, label='systematic uncertainty', color='m', markersize=3, linewidth=1)\n",
    "\n",
    "ax3.set_ylabel('Uncertainity (m)')\n",
    "ax3.set_xlabel('Distance (m)')\n",
    "\n",
    "ax1.legend(loc=1, ncol=1, markerscale=3, bbox_to_anchor=[0.98, 1.15], labelspacing=0.45, frameon=False)\n",
    "ax2.legend(loc=1, ncol=6, markerscale=3, bbox_to_anchor=[0.98, 1.15], labelspacing=0.45, frameon=False)\n",
    "ax3.legend(loc=1, ncol=6, markerscale=3, bbox_to_anchor=[0.98, 1.15], labelspacing=0.45, frameon=False)\n",
    "\n",
    "# Common subplot additions\n",
    "for ax in axs.flatten():\n",
    "    plt.sca(ax)\n",
    "    ax.spines['right'].set_visible(False)\n",
    "    ax.spines['top'].set_visible(False)\n",
    "    ax.xaxis.set_ticks_position('bottom')\n",
    "    #ax.set_xlim([0, 1000])\n",
    "    ax.yaxis.set_ticks_position('left')\n",
    "    ax.grid(axis='both', linestyle='--')\n",
    "\n",
    "#ax1.annotate(titleStr, xy=(0.01, 1.01), xycoords='axes fraction', horizontalalignment='left', verticalalignment='bottom')\n",
    "plt.tight_layout()\n",
    "#subplots_adjust(left = 0.07, right = 0.98, bottom=0.07, top = 0.96, hspace=0.18)\n",
    "plt.show()\n"
   ]
  },
  {
   "cell_type": "code",
   "execution_count": null,
   "metadata": {},
   "outputs": [],
   "source": []
  }
 ],
 "metadata": {
  "kernelspec": {
   "display_name": "Python 3",
   "language": "python",
   "name": "python3"
  },
  "language_info": {
   "codemirror_mode": {
    "name": "ipython",
    "version": 3
   },
   "file_extension": ".py",
   "mimetype": "text/x-python",
   "name": "python",
   "nbconvert_exporter": "python",
   "pygments_lexer": "ipython3",
   "version": "3.7.10"
  }
 },
 "nbformat": 4,
 "nbformat_minor": 4
}
